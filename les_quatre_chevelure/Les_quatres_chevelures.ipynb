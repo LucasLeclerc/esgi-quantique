{
 "cells": [
  {
   "cell_type": "markdown",
   "id": "b5718b71",
   "metadata": {},
   "source": [
    "# Les quatres chevelures"
   ]
  },
  {
   "cell_type": "markdown",
   "id": "7bbaef30",
   "metadata": {},
   "source": [
    "*Rappel :*\n",
    "On se retrouve dans une situation où 4 personnes se voit appliquer une teinture de cheveux **ORANGE** ou **INDIGO**\n",
    "Chaque personne ne peut voir que les chevelure des personnes suivantes\n",
    "Les personnes doivent cahcun leur tour ennoncer leur couleur de cheveux en un seul mot"
   ]
  },
  {
   "cell_type": "markdown",
   "id": "69b054a1",
   "metadata": {},
   "source": [
    "*Au préalable:*\n",
    "Les personnes se sont consulté pour que la premiere personne dise **ORANGE** si il voit un nombre pair de cheveux Indigo\n",
    "et **INDIGO** si il voit un nombre inpair de cheveux Indigo\n",
    "\n",
    "On definis ici 0 pour Orange ou pair\n",
    "et 1 pour Indigo ou impair"
   ]
  },
  {
   "cell_type": "code",
   "execution_count": 3,
   "id": "628cda9d",
   "metadata": {},
   "outputs": [],
   "source": [
    "#librairie necessaire\n",
    "import numpy as np\n",
    "from qiskit import *"
   ]
  },
  {
   "cell_type": "markdown",
   "metadata": {},
   "source": [
    "On créer un circuit de 8 qbit pour les couleur de charque participant ainsi que leur réponse\n",
    "Puis on prend en compte la couleur de cheveux des trois participant quivant pour influencer la reponse du premier participant"
   ]
  },
  {
   "cell_type": "code",
   "execution_count": 4,
   "id": "9b1eb90a",
   "metadata": {
    "scrolled": true
   },
   "outputs": [
    {
     "ename": "MissingOptionalLibraryError",
     "evalue": "\"The 'matplotlib' library is required to use 'MatplotlibDrawer'. You can install it with 'pip install matplotlib'.\"",
     "output_type": "error",
     "traceback": [
      "\u001b[1;31m---------------------------------------------------------------------------\u001b[0m",
      "\u001b[1;31mMissingOptionalLibraryError\u001b[0m               Traceback (most recent call last)",
      "\u001b[1;32mc:\\Users\\Velolime\\Desktop\\code\\esgi-quantique\\les_quatre_chevelure\\Les_quatres_chevelures.ipynb Cell 6\u001b[0m line \u001b[0;36m2\n\u001b[0;32m     <a href='vscode-notebook-cell:/c%3A/Users/Velolime/Desktop/code/esgi-quantique/les_quatre_chevelure/Les_quatres_chevelures.ipynb#W4sZmlsZQ%3D%3D?line=16'>17</a>\u001b[0m enig\u001b[39m.\u001b[39mcx(\u001b[39m3\u001b[39m,\u001b[39m4\u001b[39m)\n\u001b[0;32m     <a href='vscode-notebook-cell:/c%3A/Users/Velolime/Desktop/code/esgi-quantique/les_quatre_chevelure/Les_quatres_chevelures.ipynb#W4sZmlsZQ%3D%3D?line=19'>20</a>\u001b[0m enig\u001b[39m.\u001b[39mbarrier()\n\u001b[1;32m---> <a href='vscode-notebook-cell:/c%3A/Users/Velolime/Desktop/code/esgi-quantique/les_quatre_chevelure/Les_quatres_chevelures.ipynb#W4sZmlsZQ%3D%3D?line=20'>21</a>\u001b[0m enig\u001b[39m.\u001b[39;49mdraw(\u001b[39m'\u001b[39;49m\u001b[39mmpl\u001b[39;49m\u001b[39m'\u001b[39;49m)\n",
      "File \u001b[1;32mc:\\Users\\Velolime\\AppData\\Local\\Programs\\Python\\Python38\\lib\\site-packages\\qiskit\\circuit\\quantumcircuit.py:1913\u001b[0m, in \u001b[0;36mQuantumCircuit.draw\u001b[1;34m(self, output, scale, filename, style, interactive, plot_barriers, reverse_bits, justify, vertical_compression, idle_wires, with_layout, fold, ax, initial_state, cregbundle, wire_order)\u001b[0m\n\u001b[0;32m   1910\u001b[0m \u001b[39m# pylint: disable=cyclic-import\u001b[39;00m\n\u001b[0;32m   1911\u001b[0m \u001b[39mfrom\u001b[39;00m \u001b[39mqiskit\u001b[39;00m\u001b[39m.\u001b[39;00m\u001b[39mvisualization\u001b[39;00m \u001b[39mimport\u001b[39;00m circuit_drawer\n\u001b[1;32m-> 1913\u001b[0m \u001b[39mreturn\u001b[39;00m circuit_drawer(\n\u001b[0;32m   1914\u001b[0m     \u001b[39mself\u001b[39;49m,\n\u001b[0;32m   1915\u001b[0m     scale\u001b[39m=\u001b[39;49mscale,\n\u001b[0;32m   1916\u001b[0m     filename\u001b[39m=\u001b[39;49mfilename,\n\u001b[0;32m   1917\u001b[0m     style\u001b[39m=\u001b[39;49mstyle,\n\u001b[0;32m   1918\u001b[0m     output\u001b[39m=\u001b[39;49moutput,\n\u001b[0;32m   1919\u001b[0m     interactive\u001b[39m=\u001b[39;49minteractive,\n\u001b[0;32m   1920\u001b[0m     plot_barriers\u001b[39m=\u001b[39;49mplot_barriers,\n\u001b[0;32m   1921\u001b[0m     reverse_bits\u001b[39m=\u001b[39;49mreverse_bits,\n\u001b[0;32m   1922\u001b[0m     justify\u001b[39m=\u001b[39;49mjustify,\n\u001b[0;32m   1923\u001b[0m     vertical_compression\u001b[39m=\u001b[39;49mvertical_compression,\n\u001b[0;32m   1924\u001b[0m     idle_wires\u001b[39m=\u001b[39;49midle_wires,\n\u001b[0;32m   1925\u001b[0m     with_layout\u001b[39m=\u001b[39;49mwith_layout,\n\u001b[0;32m   1926\u001b[0m     fold\u001b[39m=\u001b[39;49mfold,\n\u001b[0;32m   1927\u001b[0m     ax\u001b[39m=\u001b[39;49max,\n\u001b[0;32m   1928\u001b[0m     initial_state\u001b[39m=\u001b[39;49minitial_state,\n\u001b[0;32m   1929\u001b[0m     cregbundle\u001b[39m=\u001b[39;49mcregbundle,\n\u001b[0;32m   1930\u001b[0m     wire_order\u001b[39m=\u001b[39;49mwire_order,\n\u001b[0;32m   1931\u001b[0m )\n",
      "File \u001b[1;32mc:\\Users\\Velolime\\AppData\\Local\\Programs\\Python\\Python38\\lib\\site-packages\\qiskit\\visualization\\circuit\\circuit_visualization.py:292\u001b[0m, in \u001b[0;36mcircuit_drawer\u001b[1;34m(circuit, scale, filename, style, output, interactive, plot_barriers, reverse_bits, justify, vertical_compression, idle_wires, with_layout, fold, ax, initial_state, cregbundle, wire_order)\u001b[0m\n\u001b[0;32m    277\u001b[0m     \u001b[39mreturn\u001b[39;00m _generate_latex_source(\n\u001b[0;32m    278\u001b[0m         circuit,\n\u001b[0;32m    279\u001b[0m         filename\u001b[39m=\u001b[39mfilename,\n\u001b[1;32m   (...)\u001b[0m\n\u001b[0;32m    289\u001b[0m         wire_order\u001b[39m=\u001b[39mcomplete_wire_order,\n\u001b[0;32m    290\u001b[0m     )\n\u001b[0;32m    291\u001b[0m \u001b[39melif\u001b[39;00m output \u001b[39m==\u001b[39m \u001b[39m\"\u001b[39m\u001b[39mmpl\u001b[39m\u001b[39m\"\u001b[39m:\n\u001b[1;32m--> 292\u001b[0m     image \u001b[39m=\u001b[39m _matplotlib_circuit_drawer(\n\u001b[0;32m    293\u001b[0m         circuit,\n\u001b[0;32m    294\u001b[0m         scale\u001b[39m=\u001b[39;49mscale,\n\u001b[0;32m    295\u001b[0m         filename\u001b[39m=\u001b[39;49mfilename,\n\u001b[0;32m    296\u001b[0m         style\u001b[39m=\u001b[39;49mstyle,\n\u001b[0;32m    297\u001b[0m         plot_barriers\u001b[39m=\u001b[39;49mplot_barriers,\n\u001b[0;32m    298\u001b[0m         reverse_bits\u001b[39m=\u001b[39;49mreverse_bits,\n\u001b[0;32m    299\u001b[0m         justify\u001b[39m=\u001b[39;49mjustify,\n\u001b[0;32m    300\u001b[0m         idle_wires\u001b[39m=\u001b[39;49midle_wires,\n\u001b[0;32m    301\u001b[0m         with_layout\u001b[39m=\u001b[39;49mwith_layout,\n\u001b[0;32m    302\u001b[0m         fold\u001b[39m=\u001b[39;49mfold,\n\u001b[0;32m    303\u001b[0m         ax\u001b[39m=\u001b[39;49max,\n\u001b[0;32m    304\u001b[0m         initial_state\u001b[39m=\u001b[39;49minitial_state,\n\u001b[0;32m    305\u001b[0m         cregbundle\u001b[39m=\u001b[39;49mcregbundle,\n\u001b[0;32m    306\u001b[0m         wire_order\u001b[39m=\u001b[39;49mcomplete_wire_order,\n\u001b[0;32m    307\u001b[0m     )\n\u001b[0;32m    308\u001b[0m \u001b[39melse\u001b[39;00m:\n\u001b[0;32m    309\u001b[0m     \u001b[39mraise\u001b[39;00m VisualizationError(\n\u001b[0;32m    310\u001b[0m         \u001b[39m\"\u001b[39m\u001b[39mInvalid output type \u001b[39m\u001b[39m%s\u001b[39;00m\u001b[39m selected. The only valid choices \u001b[39m\u001b[39m\"\u001b[39m\n\u001b[0;32m    311\u001b[0m         \u001b[39m\"\u001b[39m\u001b[39mare text, latex, latex_source, and mpl\u001b[39m\u001b[39m\"\u001b[39m \u001b[39m%\u001b[39m output\n\u001b[0;32m    312\u001b[0m     )\n",
      "File \u001b[1;32mc:\\Users\\Velolime\\AppData\\Local\\Programs\\Python\\Python38\\lib\\site-packages\\qiskit\\visualization\\circuit\\circuit_visualization.py:662\u001b[0m, in \u001b[0;36m_matplotlib_circuit_drawer\u001b[1;34m(circuit, scale, filename, style, plot_barriers, reverse_bits, justify, idle_wires, with_layout, fold, ax, initial_state, cregbundle, wire_order)\u001b[0m\n\u001b[0;32m    659\u001b[0m \u001b[39mif\u001b[39;00m fold \u001b[39mis\u001b[39;00m \u001b[39mNone\u001b[39;00m:\n\u001b[0;32m    660\u001b[0m     fold \u001b[39m=\u001b[39m \u001b[39m25\u001b[39m\n\u001b[1;32m--> 662\u001b[0m qcd \u001b[39m=\u001b[39m _matplotlib\u001b[39m.\u001b[39;49mMatplotlibDrawer(\n\u001b[0;32m    663\u001b[0m     qubits,\n\u001b[0;32m    664\u001b[0m     clbits,\n\u001b[0;32m    665\u001b[0m     nodes,\n\u001b[0;32m    666\u001b[0m     circuit,\n\u001b[0;32m    667\u001b[0m     scale\u001b[39m=\u001b[39;49mscale,\n\u001b[0;32m    668\u001b[0m     style\u001b[39m=\u001b[39;49mstyle,\n\u001b[0;32m    669\u001b[0m     reverse_bits\u001b[39m=\u001b[39;49mreverse_bits,\n\u001b[0;32m    670\u001b[0m     plot_barriers\u001b[39m=\u001b[39;49mplot_barriers,\n\u001b[0;32m    671\u001b[0m     fold\u001b[39m=\u001b[39;49mfold,\n\u001b[0;32m    672\u001b[0m     ax\u001b[39m=\u001b[39;49max,\n\u001b[0;32m    673\u001b[0m     initial_state\u001b[39m=\u001b[39;49minitial_state,\n\u001b[0;32m    674\u001b[0m     cregbundle\u001b[39m=\u001b[39;49mcregbundle,\n\u001b[0;32m    675\u001b[0m     with_layout\u001b[39m=\u001b[39;49mwith_layout,\n\u001b[0;32m    676\u001b[0m )\n\u001b[0;32m    677\u001b[0m \u001b[39mreturn\u001b[39;00m qcd\u001b[39m.\u001b[39mdraw(filename)\n",
      "File \u001b[1;32mc:\\Users\\Velolime\\AppData\\Local\\Programs\\Python\\Python38\\lib\\site-packages\\qiskit\\utils\\classtools.py:111\u001b[0m, in \u001b[0;36m_WrappedMethod.__get__.<locals>.out\u001b[1;34m(*args, **kwargs)\u001b[0m\n\u001b[0;32m    108\u001b[0m \u001b[39m@functools\u001b[39m\u001b[39m.\u001b[39mwraps(method)\n\u001b[0;32m    109\u001b[0m \u001b[39mdef\u001b[39;00m \u001b[39mout\u001b[39m(\u001b[39m*\u001b[39margs, \u001b[39m*\u001b[39m\u001b[39m*\u001b[39mkwargs):\n\u001b[0;32m    110\u001b[0m     \u001b[39mfor\u001b[39;00m callback \u001b[39min\u001b[39;00m \u001b[39mself\u001b[39m\u001b[39m.\u001b[39m_before:\n\u001b[1;32m--> 111\u001b[0m         callback\u001b[39m.\u001b[39;49m\u001b[39m__get__\u001b[39;49m(obj, objtype)(\u001b[39m*\u001b[39;49margs, \u001b[39m*\u001b[39;49m\u001b[39m*\u001b[39;49mkwargs)\n\u001b[0;32m    112\u001b[0m     retval \u001b[39m=\u001b[39m method(\u001b[39m*\u001b[39margs, \u001b[39m*\u001b[39m\u001b[39m*\u001b[39mkwargs)\n\u001b[0;32m    113\u001b[0m     \u001b[39mfor\u001b[39;00m callback \u001b[39min\u001b[39;00m \u001b[39mself\u001b[39m\u001b[39m.\u001b[39m_after:\n",
      "File \u001b[1;32mc:\\Users\\Velolime\\AppData\\Local\\Programs\\Python\\Python38\\lib\\site-packages\\qiskit\\utils\\lazy_tester.py:39\u001b[0m, in \u001b[0;36m_RequireNow.__call__\u001b[1;34m(self, *_args, **_kwargs)\u001b[0m\n\u001b[0;32m     38\u001b[0m \u001b[39mdef\u001b[39;00m \u001b[39m__call__\u001b[39m(\u001b[39mself\u001b[39m, \u001b[39m*\u001b[39m_args, \u001b[39m*\u001b[39m\u001b[39m*\u001b[39m_kwargs):\n\u001b[1;32m---> 39\u001b[0m     \u001b[39mself\u001b[39;49m\u001b[39m.\u001b[39;49m_tester\u001b[39m.\u001b[39;49mrequire_now(\u001b[39mself\u001b[39;49m\u001b[39m.\u001b[39;49m_feature)\n",
      "File \u001b[1;32mc:\\Users\\Velolime\\AppData\\Local\\Programs\\Python\\Python38\\lib\\site-packages\\qiskit\\utils\\lazy_tester.py:223\u001b[0m, in \u001b[0;36mLazyDependencyManager.require_now\u001b[1;34m(self, feature)\u001b[0m\n\u001b[0;32m    221\u001b[0m \u001b[39mif\u001b[39;00m \u001b[39mself\u001b[39m:\n\u001b[0;32m    222\u001b[0m     \u001b[39mreturn\u001b[39;00m\n\u001b[1;32m--> 223\u001b[0m \u001b[39mraise\u001b[39;00m MissingOptionalLibraryError(\n\u001b[0;32m    224\u001b[0m     libname\u001b[39m=\u001b[39m\u001b[39mself\u001b[39m\u001b[39m.\u001b[39m_name, name\u001b[39m=\u001b[39mfeature, pip_install\u001b[39m=\u001b[39m\u001b[39mself\u001b[39m\u001b[39m.\u001b[39m_install, msg\u001b[39m=\u001b[39m\u001b[39mself\u001b[39m\u001b[39m.\u001b[39m_msg\n\u001b[0;32m    225\u001b[0m )\n",
      "\u001b[1;31mMissingOptionalLibraryError\u001b[0m: \"The 'matplotlib' library is required to use 'MatplotlibDrawer'. You can install it with 'pip install matplotlib'.\""
     ]
    }
   ],
   "source": [
    "# on créer un circuit de 8 Qbit, deux par paticipant pour reppresanter sa couleur et sa reponse\n",
    "enig = QuantumCircuit(8) \n",
    "\n",
    "# on met une porte Hadamard sur les 4 personnes pour définir aléatoirement leur couleur\n",
    "enig.h(0)\n",
    "enig.h(1)\n",
    "enig.h(2)\n",
    "enig.h(3)\n",
    "\n",
    "\n",
    "\n",
    "enig.barrier()\n",
    "\n",
    "# on fait une porte CNOT de chaque participant sauf le premier pour representer ce qu'il voit et donc en definir ca reponse\n",
    "enig.cx(1,4)\n",
    "enig.cx(2,4)\n",
    "enig.cx(3,4)\n",
    "\n",
    "\n",
    "enig.barrier()\n",
    "enig.draw('mpl')"
   ]
  },
  {
   "cell_type": "markdown",
   "metadata": {},
   "source": [
    "On communique la réponse du premier participant au autre pour que leur réponse puisse entre prise en fonction"
   ]
  },
  {
   "cell_type": "code",
   "execution_count": null,
   "id": "aa4d8fc6",
   "metadata": {
    "scrolled": true
   },
   "outputs": [
    {
     "ename": "",
     "evalue": "",
     "output_type": "error",
     "traceback": [
      "\u001b[1;31mRunning cells with 'c:\\Users\\Velolime\\AppData\\Local\\Programs\\Python\\Python38\\python.exe' requires the ipykernel package.\n",
      "\u001b[1;31mRun the following command to install 'ipykernel' into the Python environment. \n",
      "\u001b[1;31mCommand: 'c:/Users/Velolime/AppData/Local/Programs/Python/Python38/python.exe -m pip install ipykernel -U --user --force-reinstall'"
     ]
    }
   ],
   "source": [
    "# on fait une porte CNOT de la reponse du premier sur la reponse des autres participant pour signifie le partage de l'information donner par le premier participant\n",
    "enig.cx(4,5)\n",
    "enig.cx(4,6)\n",
    "enig.cx(4,7)\n",
    "\n",
    "enig.barrier()\n",
    "enig.draw('mpl')"
   ]
  },
  {
   "cell_type": "markdown",
   "metadata": {},
   "source": [
    "On reproduit les deux dernier bloque pour faire la meme chose mais avec le deuxieme participant"
   ]
  },
  {
   "cell_type": "code",
   "execution_count": null,
   "id": "9c8ae553",
   "metadata": {
    "scrolled": true
   },
   "outputs": [
    {
     "ename": "",
     "evalue": "",
     "output_type": "error",
     "traceback": [
      "\u001b[1;31mRunning cells with 'c:\\Users\\Velolime\\AppData\\Local\\Programs\\Python\\Python38\\python.exe' requires the ipykernel package.\n",
      "\u001b[1;31mRun the following command to install 'ipykernel' into the Python environment. \n",
      "\u001b[1;31mCommand: 'c:/Users/Velolime/AppData/Local/Programs/Python/Python38/python.exe -m pip install ipykernel -U --user --force-reinstall'"
     ]
    }
   ],
   "source": [
    "# on réitere les deux dernier partit mais cette fois pour la prise d'information et le partage de la reponse du participant 2\n",
    "\n",
    "enig.cx(2,5)\n",
    "enig.cx(3,5)\n",
    "\n",
    "\n",
    "enig.barrier()\n",
    "\n",
    "enig.cx(5,6)\n",
    "enig.cx(5,7)\n",
    "\n",
    "enig.barrier()\n",
    "\n",
    "enig.draw('mpl')"
   ]
  },
  {
   "cell_type": "markdown",
   "metadata": {},
   "source": [
    "Et on tremrine avec l'avant dernier participant qui va ensuite permettre au dernier participant de connaitre ca reponse"
   ]
  },
  {
   "cell_type": "code",
   "execution_count": null,
   "id": "29234458",
   "metadata": {
    "scrolled": true
   },
   "outputs": [
    {
     "ename": "",
     "evalue": "",
     "output_type": "error",
     "traceback": [
      "\u001b[1;31mRunning cells with 'c:\\Users\\Velolime\\AppData\\Local\\Programs\\Python\\Python38\\python.exe' requires the ipykernel package.\n",
      "\u001b[1;31mRun the following command to install 'ipykernel' into the Python environment. \n",
      "\u001b[1;31mCommand: 'c:/Users/Velolime/AppData/Local/Programs/Python/Python38/python.exe -m pip install ipykernel -U --user --force-reinstall'"
     ]
    }
   ],
   "source": [
    "# et on réitere enfin le meme procéder pour le participant 3\n",
    "enig.cx(3,6)\n",
    "\n",
    "\n",
    "enig.barrier()\n",
    "\n",
    "enig.cx(6,7)\n",
    "\n",
    "# et donc le participant en deduis ca reponse\n",
    "enig.draw('mpl')"
   ]
  },
  {
   "cell_type": "code",
   "execution_count": null,
   "id": "94ab086e",
   "metadata": {
    "scrolled": true
   },
   "outputs": [
    {
     "ename": "",
     "evalue": "",
     "output_type": "error",
     "traceback": [
      "\u001b[1;31mRunning cells with 'c:\\Users\\Velolime\\AppData\\Local\\Programs\\Python\\Python38\\python.exe' requires the ipykernel package.\n",
      "\u001b[1;31mRun the following command to install 'ipykernel' into the Python environment. \n",
      "\u001b[1;31mCommand: 'c:/Users/Velolime/AppData/Local/Programs/Python/Python38/python.exe -m pip install ipykernel -U --user --force-reinstall'"
     ]
    }
   ],
   "source": [
    "# on ajoute des prise de mesure sur chaque Qbit pour voir le resultat\n",
    "enig.measure_all() \n",
    "enig.draw('mpl')"
   ]
  },
  {
   "cell_type": "code",
   "execution_count": null,
   "id": "a5cf696f",
   "metadata": {
    "scrolled": true
   },
   "outputs": [
    {
     "ename": "",
     "evalue": "",
     "output_type": "error",
     "traceback": [
      "\u001b[1;31mRunning cells with 'c:\\Users\\Velolime\\AppData\\Local\\Programs\\Python\\Python38\\python.exe' requires the ipykernel package.\n",
      "\u001b[1;31mRun the following command to install 'ipykernel' into the Python environment. \n",
      "\u001b[1;31mCommand: 'c:/Users/Velolime/AppData/Local/Programs/Python/Python38/python.exe -m pip install ipykernel -U --user --force-reinstall'"
     ]
    }
   ],
   "source": [
    "#on faire un compte de 10000 itération pour avoir un échantillon large et étudier les résultats\n",
    "from qiskit import Aer\n",
    "from qiskit.visualization import plot_histogram\n",
    "meas = QuantumCircuit(8,8)\n",
    "meas.measure([0, 1, 2,3,4,5,6,7], [0, 1, 2,3,4,5,6,7])\n",
    "\n",
    "backend = BasicAer.get_backend('qasm_simulator')\n",
    "enig = enig.compose(meas)\n",
    "result = backend.run(transpile(enig, backend), shots=10000).result()\n",
    "counts = result.get_counts()\n",
    "plot_histogram(counts)"
   ]
  },
  {
   "cell_type": "markdown",
   "id": "60d22c87",
   "metadata": {},
   "source": [
    "# **Interprétation des résultats**"
   ]
  },
  {
   "cell_type": "markdown",
   "id": "ac7e3432",
   "metadata": {},
   "source": [
    "On voit que les résultat sont répartit de maniere uniforme, il n'y a pas de réponse qui sort du lot, ce qui est normal car on part de valeur aléatoire avec les porte Hadamard"
   ]
  },
  {
   "cell_type": "markdown",
   "id": "cc1934ce",
   "metadata": {},
   "source": [
    "Pour rappel on lit les Qbit de droite a gauche donc le Qbit le plus a droite est le Qbit0 et le plus à gauche le Qbit7"
   ]
  },
  {
   "cell_type": "markdown",
   "id": "88156486",
   "metadata": {},
   "source": [
    "On peut observer que sur chaque résultats, les Qbit 1 à 3 sont identique au Qbit 5 à 7.\n",
    "Cela signifie que en prenant la signification de chaque Qbit on observe que les trois dernier participant on toujours raison sur la couleur de leur teinture\n",
    "\n",
    "De plus on peut ranger les résaultat deux par deux, car on observe que deux part deux, les Qbit sont les meme à l'exemption du premier\n",
    "Cela nous montre qu'a chaque fois on à au moins trois bonne réponse sur 4 et que la derniere bonne réponse est déterminer à 50% par la réponse du premier participant."
   ]
  }
 ],
 "metadata": {
  "kernelspec": {
   "display_name": "Python 3 (ipykernel)",
   "language": "python",
   "name": "python3"
  },
  "language_info": {
   "codemirror_mode": {
    "name": "ipython",
    "version": 3
   },
   "file_extension": ".py",
   "mimetype": "text/x-python",
   "name": "python",
   "nbconvert_exporter": "python",
   "pygments_lexer": "ipython3",
   "version": "3.8.2"
  }
 },
 "nbformat": 4,
 "nbformat_minor": 5
}
